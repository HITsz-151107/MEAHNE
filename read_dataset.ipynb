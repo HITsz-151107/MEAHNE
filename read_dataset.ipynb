{
 "cells": [
  {
   "cell_type": "code",
   "execution_count": 7,
   "id": "mysterious-advocacy",
   "metadata": {},
   "outputs": [],
   "source": [
    "import pickle\n",
    "import scipy.sparse\n",
    "import scipy.io\n",
    "import numpy as np"
   ]
  },
  {
   "cell_type": "code",
   "execution_count": 8,
   "id": "competitive-absence",
   "metadata": {},
   "outputs": [],
   "source": [
    "def load_LastFM_data(prefix):\n",
    "    in_file = open(prefix + '0/0-1-0.adjlist', 'r')\n",
    "    adjlist00 = [line.strip() for line in in_file]\n",
    "    adjlist00 = adjlist00\n",
    "    in_file.close()\n",
    "    in_file = open(prefix + '0/0-1-2-1-0.adjlist', 'r')\n",
    "    adjlist01 = [line.strip() for line in in_file]\n",
    "    adjlist01 = adjlist01\n",
    "    in_file.close()\n",
    "    in_file = open(prefix + '0/0-2-2-0.adjlist', 'r')\n",
    "    adjlist02 = [line.strip() for line in in_file]\n",
    "    adjlist02 = adjlist02\n",
    "    in_file.close()\n",
    "    in_file = open(prefix + '1/1-0-1.adjlist', 'r')\n",
    "    adjlist10 = [line.strip() for line in in_file]\n",
    "    adjlist10 = adjlist10\n",
    "    in_file.close()\n",
    "    in_file = open(prefix + '1/1-2-1.adjlist', 'r')\n",
    "    adjlist11 = [line.strip() for line in in_file]\n",
    "    adjlist11 = adjlist11\n",
    "    in_file.close()\n",
    "    in_file = open(prefix + '1/1-2-2-1.adjlist', 'r')\n",
    "    adjlist12 = [line.strip() for line in in_file]\n",
    "    adjlist12 = adjlist12\n",
    "    in_file.close()\n",
    "\n",
    "    in_file = open(prefix + '0/0-1-0_idx.pickle', 'rb')\n",
    "    idx00 = pickle.load(in_file)\n",
    "    in_file.close()\n",
    "    in_file = open(prefix + '0/0-1-2-1-0_idx.pickle', 'rb')\n",
    "    idx01 = pickle.load(in_file)\n",
    "    in_file.close()\n",
    "    in_file = open(prefix + '0/0-2-2-0_idx.pickle', 'rb')\n",
    "    idx02 = pickle.load(in_file)\n",
    "    in_file.close()\n",
    "    in_file = open(prefix + '1/1-0-1_idx.pickle', 'rb')\n",
    "    idx10 = pickle.load(in_file)\n",
    "    in_file.close()\n",
    "    in_file = open(prefix + '1/1-2-1_idx.pickle', 'rb')\n",
    "    idx11 = pickle.load(in_file)\n",
    "    in_file.close()\n",
    "    in_file = open(prefix + '1/1-2-2-1_idx.pickle', 'rb')\n",
    "    idx12 = pickle.load(in_file)\n",
    "    in_file.close()\n",
    "\n",
    "    adjM = scipy.sparse.load_npz(prefix + 'adjM.npz')\n",
    "    type_mask = np.load(prefix + 'node_types.npy')\n",
    "    train_val_test_pos_mir_disease = np.load(prefix + 'train_val_test_pos_mir_disease.npz')\n",
    "    train_val_test_neg_mir_disease = np.load(prefix + 'train_val_test_neg_mir_disease.npz')\n",
    "\n",
    "    return [[adjlist00, adjlist01,adjlist02],[adjlist10, adjlist11,adjlist12]],\\\n",
    "           [[idx00, idx01,idx02], [idx10, idx11,idx12]],\\\n",
    "           adjM, type_mask, train_val_test_pos_mir_disease, train_val_test_neg_mir_disease\n"
   ]
  },
  {
   "cell_type": "code",
   "execution_count": 9,
   "id": "enhanced-better",
   "metadata": {},
   "outputs": [],
   "source": [
    "data_path = \"dataset/\"\n",
    "a,b,c,d,e,f = load_LastFM_data(data_path)"
   ]
  },
  {
   "cell_type": "code",
   "execution_count": null,
   "id": "built-mistake",
   "metadata": {},
   "outputs": [],
   "source": []
  }
 ],
 "metadata": {
  "kernelspec": {
   "display_name": "Python [conda env:workspace] *",
   "language": "python",
   "name": "conda-env-workspace-py"
  },
  "language_info": {
   "codemirror_mode": {
    "name": "ipython",
    "version": 3
   },
   "file_extension": ".py",
   "mimetype": "text/x-python",
   "name": "python",
   "nbconvert_exporter": "python",
   "pygments_lexer": "ipython3",
   "version": "3.7.9"
  }
 },
 "nbformat": 4,
 "nbformat_minor": 5
}
